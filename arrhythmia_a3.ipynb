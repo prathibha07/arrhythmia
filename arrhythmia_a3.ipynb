{
  "cells": [
    {
      "cell_type": "code",
      "execution_count": null,
      "metadata": {
        "id": "tNmGdm_V-fiI"
      },
      "outputs": [],
      "source": [
        "# Feel free to make minor changes in the format below."
      ]
    },
    {
      "cell_type": "code",
      "execution_count": null,
      "metadata": {
        "colab": {
          "base_uri": "https://localhost:8080/"
        },
        "id": "1pTRXXQIJtRw",
        "outputId": "63f98e05-1ee2-4fe6-e60e-42c6dfcd4bd7"
      },
      "outputs": [
        {
          "output_type": "stream",
          "name": "stdout",
          "text": [
            "Drive already mounted at /content/drive; to attempt to forcibly remount, call drive.mount(\"/content/drive\", force_remount=True).\n"
          ]
        }
      ],
      "source": [
        "from google.colab import drive\n",
        "drive.mount('/content/drive')"
      ]
    },
    {
      "cell_type": "code",
      "execution_count": null,
      "metadata": {
        "colab": {
          "base_uri": "https://localhost:8080/"
        },
        "id": "Getb2unQ-5ii",
        "outputId": "c28efdc9-9381-413e-ec49-3d94157f2699"
      },
      "outputs": [
        {
          "output_type": "stream",
          "name": "stdout",
          "text": [
            "Requirement already satisfied: autograd in /usr/local/lib/python3.7/dist-packages (1.4)\n",
            "Requirement already satisfied: future>=0.15.2 in /usr/local/lib/python3.7/dist-packages (from autograd) (0.16.0)\n",
            "Requirement already satisfied: numpy>=1.12 in /usr/local/lib/python3.7/dist-packages (from autograd) (1.21.6)\n",
            "Requirement already satisfied: torch in /usr/local/lib/python3.7/dist-packages (1.11.0+cu113)\n",
            "Requirement already satisfied: torchvision in /usr/local/lib/python3.7/dist-packages (0.12.0+cu113)\n",
            "Requirement already satisfied: typing-extensions in /usr/local/lib/python3.7/dist-packages (from torch) (4.2.0)\n",
            "Requirement already satisfied: pillow!=8.3.*,>=5.3.0 in /usr/local/lib/python3.7/dist-packages (from torchvision) (7.1.2)\n",
            "Requirement already satisfied: requests in /usr/local/lib/python3.7/dist-packages (from torchvision) (2.23.0)\n",
            "Requirement already satisfied: numpy in /usr/local/lib/python3.7/dist-packages (from torchvision) (1.21.6)\n",
            "Requirement already satisfied: chardet<4,>=3.0.2 in /usr/local/lib/python3.7/dist-packages (from requests->torchvision) (3.0.4)\n",
            "Requirement already satisfied: idna<3,>=2.5 in /usr/local/lib/python3.7/dist-packages (from requests->torchvision) (2.10)\n",
            "Requirement already satisfied: urllib3!=1.25.0,!=1.25.1,<1.26,>=1.21.1 in /usr/local/lib/python3.7/dist-packages (from requests->torchvision) (1.24.3)\n",
            "Requirement already satisfied: certifi>=2017.4.17 in /usr/local/lib/python3.7/dist-packages (from requests->torchvision) (2021.10.8)\n"
          ]
        }
      ],
      "source": [
        "!pip install autograd\n",
        "!pip install torch torchvision"
      ]
    },
    {
      "cell_type": "code",
      "execution_count": null,
      "metadata": {
        "id": "-0f1LybO-p4u"
      },
      "outputs": [],
      "source": [
        "# To use torch in python.\n",
        "import torch\n",
        "\n",
        "# To create a model by layers.\n",
        "import torch.nn as nn\n",
        "import torch.nn.functional as F\n",
        "\n",
        "# To set the optimization.\n",
        "import torch.optim as optim\n",
        "from torch.optim import lr_scheduler\n",
        "\n",
        "# To manipulate arrays.\n",
        "import numpy as np\n",
        "\n",
        "# To save the best model and get data files.\n",
        "import os\n",
        "import copy\n",
        "\n",
        "import math\n",
        "import matplotlib.pyplot as plt\n",
        "import matplotlib.colors\n",
        "import pandas as pd\n",
        "from sklearn.model_selection import train_test_split\n",
        "from sklearn.metrics import accuracy_score, mean_squared_error, log_loss\n",
        "from tqdm import tqdm_notebook\n",
        "import seaborn as sns\n",
        "import time\n",
        "import warnings\n",
        "warnings.filterwarnings('ignore')\n",
        "\n",
        "import pywt\n",
        "from scipy import stats\n",
        "\n",
        "import torch"
      ]
    },
    {
      "cell_type": "code",
      "execution_count": null,
      "metadata": {
        "id": "PjvwedAaAcyK"
      },
      "outputs": [],
      "source": [
        "# Load the csv files over here into pandas data frame\n",
        "# YOUR CODE HERE\n",
        "# 0.1\n",
        "def load_csv(file_name):\n",
        "  # Input: csv_file_name\n",
        "  # Output: pandas data frame "
      ]
    },
    {
      "cell_type": "code",
      "execution_count": null,
      "metadata": {
        "id": "0HZOSNmpmKs1"
      },
      "outputs": [],
      "source": [
        "import os\n",
        "import glob\n",
        "from os.path import isfile, join\n",
        "folder_name = '/content/drive/MyDrive/Spring_22/AInHC/mini_project/mitbih_database'"
      ]
    },
    {
      "cell_type": "code",
      "execution_count": null,
      "metadata": {
        "id": "dxh3JyNqkJ3X"
      },
      "outputs": [],
      "source": [
        "# Get list of all files in a given directory sorted by name\n",
        "for file in os.listdir(folder_name):\n",
        "  list_of_files = sorted( filter( lambda x: os.path.isfile(os.path.join(folder_name, x)),\n",
        "                        os.listdir(folder_name) ) )"
      ]
    },
    {
      "cell_type": "code",
      "execution_count": null,
      "metadata": {
        "id": "fTsVBw_KmWex"
      },
      "outputs": [],
      "source": [
        "list_of_files"
      ]
    },
    {
      "cell_type": "code",
      "execution_count": null,
      "metadata": {
        "id": "GQnhFE-ok04l"
      },
      "outputs": [],
      "source": [
        "list_of_files.remove(list_of_files[0])"
      ]
    },
    {
      "cell_type": "code",
      "execution_count": null,
      "metadata": {
        "colab": {
          "base_uri": "https://localhost:8080/"
        },
        "id": "TtayY_fblBvu",
        "outputId": "2382a29b-7602-4e20-859b-aeeec42d88d0"
      },
      "outputs": [
        {
          "output_type": "execute_result",
          "data": {
            "text/plain": [
              "88"
            ]
          },
          "metadata": {},
          "execution_count": 11
        }
      ],
      "source": [
        "len(list_of_files)"
      ]
    },
    {
      "cell_type": "code",
      "execution_count": null,
      "metadata": {
        "id": "FS0giCIBlM9S"
      },
      "outputs": [],
      "source": [
        "file_list = []\n",
        "all_text_list = []\n",
        "for file_path in list_of_files:\n",
        "  if file_path.endswith('.csv'):\n",
        "    #file_list.append(file_path)\n",
        "    file_list.append(folder_name + \"/\"+ file_path)\n",
        "  \n",
        "  if file_path.endswith('.txt'):\n",
        "    all_text_list.append(folder_name + \"/\"+ file_path)\n",
        "  "
      ]
    },
    {
      "cell_type": "code",
      "execution_count": null,
      "metadata": {
        "colab": {
          "base_uri": "https://localhost:8080/"
        },
        "id": "jDQZ9KXosQZ0",
        "outputId": "71037223-c85f-4340-d25f-dbaa2fd038d9"
      },
      "outputs": [
        {
          "output_type": "execute_result",
          "data": {
            "text/plain": [
              "(44, 44)"
            ]
          },
          "metadata": {},
          "execution_count": 13
        }
      ],
      "source": [
        "len(file_list) , len(all_text_list)"
      ]
    },
    {
      "cell_type": "code",
      "source": [
        "num_lines = sum(1 for line in open(all_text_list[1]))\n",
        "num_lines"
      ],
      "metadata": {
        "colab": {
          "base_uri": "https://localhost:8080/"
        },
        "id": "1RxpoHXQYMtu",
        "outputId": "fbe3e242-e600-4f6b-e354-aa000621a57c"
      },
      "execution_count": null,
      "outputs": [
        {
          "output_type": "execute_result",
          "data": {
            "text/plain": [
              "1875"
            ]
          },
          "metadata": {},
          "execution_count": 35
        }
      ]
    },
    {
      "cell_type": "code",
      "source": [
        "all_text_list[3]"
      ],
      "metadata": {
        "colab": {
          "base_uri": "https://localhost:8080/",
          "height": 35
        },
        "id": "yg9z2QKTe1Vs",
        "outputId": "5c09f2c2-6c7c-46ff-8c74-3651e3837f19"
      },
      "execution_count": null,
      "outputs": [
        {
          "output_type": "execute_result",
          "data": {
            "text/plain": [
              "'/content/drive/MyDrive/Spring_22/AInHC/mini_project/mitbih_database/103annotations.txt'"
            ],
            "application/vnd.google.colaboratory.intrinsic+json": {
              "type": "string"
            }
          },
          "metadata": {},
          "execution_count": 13
        }
      ]
    },
    {
      "cell_type": "code",
      "source": [
        "count = len(open(all_text_list[3]).readlines())\n",
        "count"
      ],
      "metadata": {
        "colab": {
          "base_uri": "https://localhost:8080/"
        },
        "id": "CwL9ZZlgZ_EM",
        "outputId": "7875306f-23bf-4ac3-cedf-9e55d20e961f"
      },
      "execution_count": null,
      "outputs": [
        {
          "output_type": "execute_result",
          "data": {
            "text/plain": [
              "2092"
            ]
          },
          "metadata": {},
          "execution_count": 12
        }
      ]
    },
    {
      "cell_type": "code",
      "source": [
        "with open(all_text_list[1]) as f:\n",
        "    line_count = 0\n",
        "    for line in f:\n",
        "        line_count += 1\n",
        "\n",
        "print(line_count)"
      ],
      "metadata": {
        "colab": {
          "base_uri": "https://localhost:8080/"
        },
        "id": "zZnljz59aXzI",
        "outputId": "eadf2257-af50-4cd2-ddfc-daebe574752d"
      },
      "execution_count": null,
      "outputs": [
        {
          "output_type": "stream",
          "name": "stdout",
          "text": [
            "1875\n"
          ]
        }
      ]
    },
    {
      "cell_type": "code",
      "source": [
        "# using readlines() in annot file\n",
        "\n",
        "count = 0 \n",
        "columns=['Time', 'Sample#' ,'Type','Sub' ,'Chan' , 'Num']\n",
        "\n",
        "def read_annotation_file(file_path):\n",
        "    data = []\n",
        "    with open(file_path) as fp:\n",
        "        allLines = fp.readlines()\n",
        "        for line in allLines[1:]:\n",
        "            each_line = line.strip().split()[:6]\n",
        "            data.append(each_line)\n",
        "    # df = pd.DataFrame(data, columns = columns)\n",
        "    return data    \n",
        "\n",
        "def read_feats_file(file_path):\n",
        "    feats_dict = {}\n",
        "    with open(file_path) as fp:\n",
        "        allfeatslines = fp.readlines()\n",
        "        headers = allfeatslines[0].strip().split(\",\")\n",
        "        for featsline in allfeatslines[1:]:\n",
        "            temp = list(map(int, featsline.strip().split(',')))\n",
        "            feats_dict[temp[0]] = temp[1:]\n",
        "    return headers, feats_dict\n",
        "\n",
        "from pdb import set_trace as bp\n",
        "def feats_window(sample_id, num_samples, window_length=360):\n",
        "    \"\"\"\n",
        "\n",
        "    \"\"\"\n",
        "    start, end = 0, 0\n",
        "    # border case \n",
        "    if sample_id <= ((window_length/2)+1):\n",
        "        end = window_length\n",
        "    elif (num_samples - sample_id) <= ((window_length/2)-1):\n",
        "        start = num_samples - window_length\n",
        "        end = num_samples\n",
        "    else:\n",
        "        start = sample_id - (window_length/2)\n",
        "        end = sample_id + ((window_length/2))\n",
        "    answer = list(range(int(start), int(end)))\n",
        "    \n",
        "    try:\n",
        "        assert len(answer) == 360 and end <= num_samples\n",
        "    except:\n",
        "        print(\"In here\")\n",
        "    return answer\n",
        "\n",
        "# _ = read_feats_file(file_list[0])         \n",
        "#feats_window(10000, 10000)"
      ],
      "metadata": {
        "id": "PD7G6scbtnXG"
      },
      "execution_count": null,
      "outputs": []
    },
    {
      "cell_type": "code",
      "execution_count": null,
      "metadata": {
        "colab": {
          "base_uri": "https://localhost:8080/"
        },
        "id": "CzPs3Mh6ldL-",
        "outputId": "5c240323-322e-43be-9bb7-94ba38eed312"
      },
      "outputs": [
        {
          "output_type": "stream",
          "name": "stdout",
          "text": [
            "Processing file 100annotations.txt\n",
            "Processing file 101annotations.txt\n",
            "Processing file 102annotations.txt\n",
            "Processing file 103annotations.txt\n",
            "Processing file 104annotations.txt\n",
            "Processing file 105annotations.txt\n",
            "Processing file 106annotations.txt\n",
            "Processing file 107annotations.txt\n",
            "Processing file 108annotations.txt\n",
            "Processing file 109annotations.txt\n",
            "Processing file 111annotations.txt\n",
            "Processing file 112annotations.txt\n",
            "Processing file 113annotations.txt\n",
            "Processing file 114annotations.txt\n",
            "Processing file 115annotations.txt\n",
            "Processing file 116annotations.txt\n",
            "Processing file 117annotations.txt\n",
            "Processing file 118annotations.txt\n",
            "Processing file 119annotations.txt\n",
            "Processing file 121annotations.txt\n",
            "Processing file 122annotations.txt\n",
            "Processing file 123annotations.txt\n",
            "Processing file 124annotations.txt\n",
            "Processing file 200annotations.txt\n",
            "Processing file 201annotations.txt\n",
            "Processing file 202annotations.txt\n",
            "Processing file 203annotations.txt\n",
            "Processing file 205annotations.txt\n",
            "Processing file 207annotations.txt\n",
            "Processing file 208annotations.txt\n",
            "Processing file 209annotations.txt\n",
            "Processing file 210annotations.txt\n",
            "Processing file 212annotations.txt\n",
            "Processing file 213annotations.txt\n",
            "Processing file 214annotations.txt\n",
            "Processing file 215annotations.txt\n",
            "Processing file 217annotations.txt\n",
            "Processing file 219annotations.txt\n",
            "Processing file 220annotations.txt\n",
            "Processing file 221annotations.txt\n",
            "Processing file 222annotations.txt\n",
            "Processing file 223annotations.txt\n",
            "Processing file 228annotations.txt\n",
            "Processing file 230annotations.txt\n"
          ]
        }
      ],
      "source": [
        "allfeats = []\n",
        "for feats_path, annot_path in zip(file_list , all_text_list):\n",
        "    print(f\"Processing file {os.path.basename(annot_path)}\")\n",
        "    annt_data = read_annotation_file(annot_path) \n",
        "    headers_feats, feats_dict = read_feats_file(feats_path)\n",
        "    #print(headers_feats)\n",
        "    if \"'MLII'\" in headers_feats:\n",
        "        MLII_index = headers_feats.index(\"'MLII'\") - 1\n",
        "        for row in annt_data:\n",
        "            sample_id, arrh_type = int(row[1]), row[2]\n",
        "            if arrh_type not in [\"N\", \"L\", \"R\", \"A\", \"V\"]: \n",
        "                arrh_type = \"U\"\n",
        "\n",
        "            feats_window_samples = feats_window(sample_id, len(feats_dict))\n",
        "            feats_for_sampleid = [feats_dict[sample_id][MLII_index] for sample_id in feats_window_samples]\n",
        "            feats_for_sampleid.extend([arrh_type, feats_path, annot_path])\n",
        "\n",
        "            allfeats.append(feats_for_sampleid)\n"
      ]
    },
    {
      "cell_type": "code",
      "source": [
        "len(allfeats)"
      ],
      "metadata": {
        "colab": {
          "base_uri": "https://localhost:8080/"
        },
        "id": "BVvWK1yDW80U",
        "outputId": "3acb2206-6e6e-4aec-be35-b0e7e41bc367"
      },
      "execution_count": null,
      "outputs": [
        {
          "output_type": "execute_result",
          "data": {
            "text/plain": [
              "98401"
            ]
          },
          "metadata": {},
          "execution_count": 20
        }
      ]
    },
    {
      "cell_type": "code",
      "source": [
        "import pickle\n",
        "with open(\"new_train.pkl\", \"wb\") as fp:   #Pickling\n",
        "  pickle.dump(allfeats, fp)"
      ],
      "metadata": {
        "id": "soTvQN1Rg-U9"
      },
      "execution_count": null,
      "outputs": []
    },
    {
      "cell_type": "code",
      "source": [
        "Xy_df = pd.DataFrame(allfeats)"
      ],
      "metadata": {
        "id": "iXNBgpuqg1J2"
      },
      "execution_count": null,
      "outputs": []
    },
    {
      "cell_type": "code",
      "source": [
        "with open(\"new_train_pandasDF.pkl\", \"wb\") as fp:   #Pickling\n",
        "  pickle.dump(Xy_df, fp)"
      ],
      "metadata": {
        "id": "MgtwOxXNiguK"
      },
      "execution_count": null,
      "outputs": []
    },
    {
      "cell_type": "code",
      "source": [
        "Xy_df"
      ],
      "metadata": {
        "colab": {
          "base_uri": "https://localhost:8080/",
          "height": 487
        },
        "id": "ZDBItikbhupw",
        "outputId": "2463a8c7-73a8-44a1-c462-b3bd5f561555"
      },
      "execution_count": null,
      "outputs": [
        {
          "output_type": "execute_result",
          "data": {
            "text/plain": [
              "        0     1     2     3     4     5     6     7     8     9    ...   353  \\\n",
              "0       995   995   995   995   995   995   995   995  1000   997  ...   951   \n",
              "1       995   995   995   995   995   995   995   995  1000   997  ...   951   \n",
              "2       957   956   961   964   964   966   965   966   967   969  ...   958   \n",
              "3       950   951   952   951   956   959   961   960   958   958  ...   952   \n",
              "4       946   949   952   956   957   958   957   957   959   960  ...   958   \n",
              "...     ...   ...   ...   ...   ...   ...   ...   ...   ...   ...  ...   ...   \n",
              "98396  1076  1077  1079  1081  1083  1080  1082  1083  1081  1077  ...   991   \n",
              "98397  1036  1040  1045  1048  1053  1060  1065  1070  1077  1081  ...   935   \n",
              "98398   990   994   998  1004  1007  1010  1011  1015  1013  1014  ...  1015   \n",
              "98399   989   992   992   995   997  1001  1007  1012  1016  1023  ...   983   \n",
              "98400  1001  1003  1007  1009  1014  1020  1023  1025  1028  1030  ...   929   \n",
              "\n",
              "        354   355   356   357  358  359  360  \\\n",
              "0       952   948   939   935  929  922    U   \n",
              "1       952   948   939   935  929  922    N   \n",
              "2       955   955   955   960  958  957    N   \n",
              "3       951   952   951   948  950  951    N   \n",
              "4       957   956   957   960  956  956    N   \n",
              "...     ...   ...   ...   ...  ...  ...  ...   \n",
              "98396   988   982   975   972  968  965    N   \n",
              "98397   932   925   923   916  915  909    N   \n",
              "98398  1016  1012  1010  1003  998  991    N   \n",
              "98399   982   979   980   979  978  976    N   \n",
              "98400   927   928   924   923  916  914    N   \n",
              "\n",
              "                                                     361  \\\n",
              "0      /content/drive/MyDrive/Spring_22/AInHC/mini_pr...   \n",
              "1      /content/drive/MyDrive/Spring_22/AInHC/mini_pr...   \n",
              "2      /content/drive/MyDrive/Spring_22/AInHC/mini_pr...   \n",
              "3      /content/drive/MyDrive/Spring_22/AInHC/mini_pr...   \n",
              "4      /content/drive/MyDrive/Spring_22/AInHC/mini_pr...   \n",
              "...                                                  ...   \n",
              "98396  /content/drive/MyDrive/Spring_22/AInHC/mini_pr...   \n",
              "98397  /content/drive/MyDrive/Spring_22/AInHC/mini_pr...   \n",
              "98398  /content/drive/MyDrive/Spring_22/AInHC/mini_pr...   \n",
              "98399  /content/drive/MyDrive/Spring_22/AInHC/mini_pr...   \n",
              "98400  /content/drive/MyDrive/Spring_22/AInHC/mini_pr...   \n",
              "\n",
              "                                                     362  \n",
              "0      /content/drive/MyDrive/Spring_22/AInHC/mini_pr...  \n",
              "1      /content/drive/MyDrive/Spring_22/AInHC/mini_pr...  \n",
              "2      /content/drive/MyDrive/Spring_22/AInHC/mini_pr...  \n",
              "3      /content/drive/MyDrive/Spring_22/AInHC/mini_pr...  \n",
              "4      /content/drive/MyDrive/Spring_22/AInHC/mini_pr...  \n",
              "...                                                  ...  \n",
              "98396  /content/drive/MyDrive/Spring_22/AInHC/mini_pr...  \n",
              "98397  /content/drive/MyDrive/Spring_22/AInHC/mini_pr...  \n",
              "98398  /content/drive/MyDrive/Spring_22/AInHC/mini_pr...  \n",
              "98399  /content/drive/MyDrive/Spring_22/AInHC/mini_pr...  \n",
              "98400  /content/drive/MyDrive/Spring_22/AInHC/mini_pr...  \n",
              "\n",
              "[98401 rows x 363 columns]"
            ],
            "text/html": [
              "\n",
              "  <div id=\"df-819129e2-efee-45f9-b2c7-f53587ff477b\">\n",
              "    <div class=\"colab-df-container\">\n",
              "      <div>\n",
              "<style scoped>\n",
              "    .dataframe tbody tr th:only-of-type {\n",
              "        vertical-align: middle;\n",
              "    }\n",
              "\n",
              "    .dataframe tbody tr th {\n",
              "        vertical-align: top;\n",
              "    }\n",
              "\n",
              "    .dataframe thead th {\n",
              "        text-align: right;\n",
              "    }\n",
              "</style>\n",
              "<table border=\"1\" class=\"dataframe\">\n",
              "  <thead>\n",
              "    <tr style=\"text-align: right;\">\n",
              "      <th></th>\n",
              "      <th>0</th>\n",
              "      <th>1</th>\n",
              "      <th>2</th>\n",
              "      <th>3</th>\n",
              "      <th>4</th>\n",
              "      <th>5</th>\n",
              "      <th>6</th>\n",
              "      <th>7</th>\n",
              "      <th>8</th>\n",
              "      <th>9</th>\n",
              "      <th>...</th>\n",
              "      <th>353</th>\n",
              "      <th>354</th>\n",
              "      <th>355</th>\n",
              "      <th>356</th>\n",
              "      <th>357</th>\n",
              "      <th>358</th>\n",
              "      <th>359</th>\n",
              "      <th>360</th>\n",
              "      <th>361</th>\n",
              "      <th>362</th>\n",
              "    </tr>\n",
              "  </thead>\n",
              "  <tbody>\n",
              "    <tr>\n",
              "      <th>0</th>\n",
              "      <td>995</td>\n",
              "      <td>995</td>\n",
              "      <td>995</td>\n",
              "      <td>995</td>\n",
              "      <td>995</td>\n",
              "      <td>995</td>\n",
              "      <td>995</td>\n",
              "      <td>995</td>\n",
              "      <td>1000</td>\n",
              "      <td>997</td>\n",
              "      <td>...</td>\n",
              "      <td>951</td>\n",
              "      <td>952</td>\n",
              "      <td>948</td>\n",
              "      <td>939</td>\n",
              "      <td>935</td>\n",
              "      <td>929</td>\n",
              "      <td>922</td>\n",
              "      <td>U</td>\n",
              "      <td>/content/drive/MyDrive/Spring_22/AInHC/mini_pr...</td>\n",
              "      <td>/content/drive/MyDrive/Spring_22/AInHC/mini_pr...</td>\n",
              "    </tr>\n",
              "    <tr>\n",
              "      <th>1</th>\n",
              "      <td>995</td>\n",
              "      <td>995</td>\n",
              "      <td>995</td>\n",
              "      <td>995</td>\n",
              "      <td>995</td>\n",
              "      <td>995</td>\n",
              "      <td>995</td>\n",
              "      <td>995</td>\n",
              "      <td>1000</td>\n",
              "      <td>997</td>\n",
              "      <td>...</td>\n",
              "      <td>951</td>\n",
              "      <td>952</td>\n",
              "      <td>948</td>\n",
              "      <td>939</td>\n",
              "      <td>935</td>\n",
              "      <td>929</td>\n",
              "      <td>922</td>\n",
              "      <td>N</td>\n",
              "      <td>/content/drive/MyDrive/Spring_22/AInHC/mini_pr...</td>\n",
              "      <td>/content/drive/MyDrive/Spring_22/AInHC/mini_pr...</td>\n",
              "    </tr>\n",
              "    <tr>\n",
              "      <th>2</th>\n",
              "      <td>957</td>\n",
              "      <td>956</td>\n",
              "      <td>961</td>\n",
              "      <td>964</td>\n",
              "      <td>964</td>\n",
              "      <td>966</td>\n",
              "      <td>965</td>\n",
              "      <td>966</td>\n",
              "      <td>967</td>\n",
              "      <td>969</td>\n",
              "      <td>...</td>\n",
              "      <td>958</td>\n",
              "      <td>955</td>\n",
              "      <td>955</td>\n",
              "      <td>955</td>\n",
              "      <td>960</td>\n",
              "      <td>958</td>\n",
              "      <td>957</td>\n",
              "      <td>N</td>\n",
              "      <td>/content/drive/MyDrive/Spring_22/AInHC/mini_pr...</td>\n",
              "      <td>/content/drive/MyDrive/Spring_22/AInHC/mini_pr...</td>\n",
              "    </tr>\n",
              "    <tr>\n",
              "      <th>3</th>\n",
              "      <td>950</td>\n",
              "      <td>951</td>\n",
              "      <td>952</td>\n",
              "      <td>951</td>\n",
              "      <td>956</td>\n",
              "      <td>959</td>\n",
              "      <td>961</td>\n",
              "      <td>960</td>\n",
              "      <td>958</td>\n",
              "      <td>958</td>\n",
              "      <td>...</td>\n",
              "      <td>952</td>\n",
              "      <td>951</td>\n",
              "      <td>952</td>\n",
              "      <td>951</td>\n",
              "      <td>948</td>\n",
              "      <td>950</td>\n",
              "      <td>951</td>\n",
              "      <td>N</td>\n",
              "      <td>/content/drive/MyDrive/Spring_22/AInHC/mini_pr...</td>\n",
              "      <td>/content/drive/MyDrive/Spring_22/AInHC/mini_pr...</td>\n",
              "    </tr>\n",
              "    <tr>\n",
              "      <th>4</th>\n",
              "      <td>946</td>\n",
              "      <td>949</td>\n",
              "      <td>952</td>\n",
              "      <td>956</td>\n",
              "      <td>957</td>\n",
              "      <td>958</td>\n",
              "      <td>957</td>\n",
              "      <td>957</td>\n",
              "      <td>959</td>\n",
              "      <td>960</td>\n",
              "      <td>...</td>\n",
              "      <td>958</td>\n",
              "      <td>957</td>\n",
              "      <td>956</td>\n",
              "      <td>957</td>\n",
              "      <td>960</td>\n",
              "      <td>956</td>\n",
              "      <td>956</td>\n",
              "      <td>N</td>\n",
              "      <td>/content/drive/MyDrive/Spring_22/AInHC/mini_pr...</td>\n",
              "      <td>/content/drive/MyDrive/Spring_22/AInHC/mini_pr...</td>\n",
              "    </tr>\n",
              "    <tr>\n",
              "      <th>...</th>\n",
              "      <td>...</td>\n",
              "      <td>...</td>\n",
              "      <td>...</td>\n",
              "      <td>...</td>\n",
              "      <td>...</td>\n",
              "      <td>...</td>\n",
              "      <td>...</td>\n",
              "      <td>...</td>\n",
              "      <td>...</td>\n",
              "      <td>...</td>\n",
              "      <td>...</td>\n",
              "      <td>...</td>\n",
              "      <td>...</td>\n",
              "      <td>...</td>\n",
              "      <td>...</td>\n",
              "      <td>...</td>\n",
              "      <td>...</td>\n",
              "      <td>...</td>\n",
              "      <td>...</td>\n",
              "      <td>...</td>\n",
              "      <td>...</td>\n",
              "    </tr>\n",
              "    <tr>\n",
              "      <th>98396</th>\n",
              "      <td>1076</td>\n",
              "      <td>1077</td>\n",
              "      <td>1079</td>\n",
              "      <td>1081</td>\n",
              "      <td>1083</td>\n",
              "      <td>1080</td>\n",
              "      <td>1082</td>\n",
              "      <td>1083</td>\n",
              "      <td>1081</td>\n",
              "      <td>1077</td>\n",
              "      <td>...</td>\n",
              "      <td>991</td>\n",
              "      <td>988</td>\n",
              "      <td>982</td>\n",
              "      <td>975</td>\n",
              "      <td>972</td>\n",
              "      <td>968</td>\n",
              "      <td>965</td>\n",
              "      <td>N</td>\n",
              "      <td>/content/drive/MyDrive/Spring_22/AInHC/mini_pr...</td>\n",
              "      <td>/content/drive/MyDrive/Spring_22/AInHC/mini_pr...</td>\n",
              "    </tr>\n",
              "    <tr>\n",
              "      <th>98397</th>\n",
              "      <td>1036</td>\n",
              "      <td>1040</td>\n",
              "      <td>1045</td>\n",
              "      <td>1048</td>\n",
              "      <td>1053</td>\n",
              "      <td>1060</td>\n",
              "      <td>1065</td>\n",
              "      <td>1070</td>\n",
              "      <td>1077</td>\n",
              "      <td>1081</td>\n",
              "      <td>...</td>\n",
              "      <td>935</td>\n",
              "      <td>932</td>\n",
              "      <td>925</td>\n",
              "      <td>923</td>\n",
              "      <td>916</td>\n",
              "      <td>915</td>\n",
              "      <td>909</td>\n",
              "      <td>N</td>\n",
              "      <td>/content/drive/MyDrive/Spring_22/AInHC/mini_pr...</td>\n",
              "      <td>/content/drive/MyDrive/Spring_22/AInHC/mini_pr...</td>\n",
              "    </tr>\n",
              "    <tr>\n",
              "      <th>98398</th>\n",
              "      <td>990</td>\n",
              "      <td>994</td>\n",
              "      <td>998</td>\n",
              "      <td>1004</td>\n",
              "      <td>1007</td>\n",
              "      <td>1010</td>\n",
              "      <td>1011</td>\n",
              "      <td>1015</td>\n",
              "      <td>1013</td>\n",
              "      <td>1014</td>\n",
              "      <td>...</td>\n",
              "      <td>1015</td>\n",
              "      <td>1016</td>\n",
              "      <td>1012</td>\n",
              "      <td>1010</td>\n",
              "      <td>1003</td>\n",
              "      <td>998</td>\n",
              "      <td>991</td>\n",
              "      <td>N</td>\n",
              "      <td>/content/drive/MyDrive/Spring_22/AInHC/mini_pr...</td>\n",
              "      <td>/content/drive/MyDrive/Spring_22/AInHC/mini_pr...</td>\n",
              "    </tr>\n",
              "    <tr>\n",
              "      <th>98399</th>\n",
              "      <td>989</td>\n",
              "      <td>992</td>\n",
              "      <td>992</td>\n",
              "      <td>995</td>\n",
              "      <td>997</td>\n",
              "      <td>1001</td>\n",
              "      <td>1007</td>\n",
              "      <td>1012</td>\n",
              "      <td>1016</td>\n",
              "      <td>1023</td>\n",
              "      <td>...</td>\n",
              "      <td>983</td>\n",
              "      <td>982</td>\n",
              "      <td>979</td>\n",
              "      <td>980</td>\n",
              "      <td>979</td>\n",
              "      <td>978</td>\n",
              "      <td>976</td>\n",
              "      <td>N</td>\n",
              "      <td>/content/drive/MyDrive/Spring_22/AInHC/mini_pr...</td>\n",
              "      <td>/content/drive/MyDrive/Spring_22/AInHC/mini_pr...</td>\n",
              "    </tr>\n",
              "    <tr>\n",
              "      <th>98400</th>\n",
              "      <td>1001</td>\n",
              "      <td>1003</td>\n",
              "      <td>1007</td>\n",
              "      <td>1009</td>\n",
              "      <td>1014</td>\n",
              "      <td>1020</td>\n",
              "      <td>1023</td>\n",
              "      <td>1025</td>\n",
              "      <td>1028</td>\n",
              "      <td>1030</td>\n",
              "      <td>...</td>\n",
              "      <td>929</td>\n",
              "      <td>927</td>\n",
              "      <td>928</td>\n",
              "      <td>924</td>\n",
              "      <td>923</td>\n",
              "      <td>916</td>\n",
              "      <td>914</td>\n",
              "      <td>N</td>\n",
              "      <td>/content/drive/MyDrive/Spring_22/AInHC/mini_pr...</td>\n",
              "      <td>/content/drive/MyDrive/Spring_22/AInHC/mini_pr...</td>\n",
              "    </tr>\n",
              "  </tbody>\n",
              "</table>\n",
              "<p>98401 rows × 363 columns</p>\n",
              "</div>\n",
              "      <button class=\"colab-df-convert\" onclick=\"convertToInteractive('df-819129e2-efee-45f9-b2c7-f53587ff477b')\"\n",
              "              title=\"Convert this dataframe to an interactive table.\"\n",
              "              style=\"display:none;\">\n",
              "        \n",
              "  <svg xmlns=\"http://www.w3.org/2000/svg\" height=\"24px\"viewBox=\"0 0 24 24\"\n",
              "       width=\"24px\">\n",
              "    <path d=\"M0 0h24v24H0V0z\" fill=\"none\"/>\n",
              "    <path d=\"M18.56 5.44l.94 2.06.94-2.06 2.06-.94-2.06-.94-.94-2.06-.94 2.06-2.06.94zm-11 1L8.5 8.5l.94-2.06 2.06-.94-2.06-.94L8.5 2.5l-.94 2.06-2.06.94zm10 10l.94 2.06.94-2.06 2.06-.94-2.06-.94-.94-2.06-.94 2.06-2.06.94z\"/><path d=\"M17.41 7.96l-1.37-1.37c-.4-.4-.92-.59-1.43-.59-.52 0-1.04.2-1.43.59L10.3 9.45l-7.72 7.72c-.78.78-.78 2.05 0 2.83L4 21.41c.39.39.9.59 1.41.59.51 0 1.02-.2 1.41-.59l7.78-7.78 2.81-2.81c.8-.78.8-2.07 0-2.86zM5.41 20L4 18.59l7.72-7.72 1.47 1.35L5.41 20z\"/>\n",
              "  </svg>\n",
              "      </button>\n",
              "      \n",
              "  <style>\n",
              "    .colab-df-container {\n",
              "      display:flex;\n",
              "      flex-wrap:wrap;\n",
              "      gap: 12px;\n",
              "    }\n",
              "\n",
              "    .colab-df-convert {\n",
              "      background-color: #E8F0FE;\n",
              "      border: none;\n",
              "      border-radius: 50%;\n",
              "      cursor: pointer;\n",
              "      display: none;\n",
              "      fill: #1967D2;\n",
              "      height: 32px;\n",
              "      padding: 0 0 0 0;\n",
              "      width: 32px;\n",
              "    }\n",
              "\n",
              "    .colab-df-convert:hover {\n",
              "      background-color: #E2EBFA;\n",
              "      box-shadow: 0px 1px 2px rgba(60, 64, 67, 0.3), 0px 1px 3px 1px rgba(60, 64, 67, 0.15);\n",
              "      fill: #174EA6;\n",
              "    }\n",
              "\n",
              "    [theme=dark] .colab-df-convert {\n",
              "      background-color: #3B4455;\n",
              "      fill: #D2E3FC;\n",
              "    }\n",
              "\n",
              "    [theme=dark] .colab-df-convert:hover {\n",
              "      background-color: #434B5C;\n",
              "      box-shadow: 0px 1px 3px 1px rgba(0, 0, 0, 0.15);\n",
              "      filter: drop-shadow(0px 1px 2px rgba(0, 0, 0, 0.3));\n",
              "      fill: #FFFFFF;\n",
              "    }\n",
              "  </style>\n",
              "\n",
              "      <script>\n",
              "        const buttonEl =\n",
              "          document.querySelector('#df-819129e2-efee-45f9-b2c7-f53587ff477b button.colab-df-convert');\n",
              "        buttonEl.style.display =\n",
              "          google.colab.kernel.accessAllowed ? 'block' : 'none';\n",
              "\n",
              "        async function convertToInteractive(key) {\n",
              "          const element = document.querySelector('#df-819129e2-efee-45f9-b2c7-f53587ff477b');\n",
              "          const dataTable =\n",
              "            await google.colab.kernel.invokeFunction('convertToInteractive',\n",
              "                                                     [key], {});\n",
              "          if (!dataTable) return;\n",
              "\n",
              "          const docLinkHtml = 'Like what you see? Visit the ' +\n",
              "            '<a target=\"_blank\" href=https://colab.research.google.com/notebooks/data_table.ipynb>data table notebook</a>'\n",
              "            + ' to learn more about interactive tables.';\n",
              "          element.innerHTML = '';\n",
              "          dataTable['output_type'] = 'display_data';\n",
              "          await google.colab.output.renderOutput(dataTable, element);\n",
              "          const docLink = document.createElement('div');\n",
              "          docLink.innerHTML = docLinkHtml;\n",
              "          element.appendChild(docLink);\n",
              "        }\n",
              "      </script>\n",
              "    </div>\n",
              "  </div>\n",
              "  "
            ]
          },
          "metadata": {},
          "execution_count": 33
        }
      ]
    },
    {
      "cell_type": "code",
      "source": [
        "X = Xy_df.iloc[:,0:360]\n",
        "y = Xy_df[360]"
      ],
      "metadata": {
        "id": "21VxYfAAkGsG"
      },
      "execution_count": null,
      "outputs": []
    },
    {
      "cell_type": "code",
      "source": [
        "X"
      ],
      "metadata": {
        "colab": {
          "base_uri": "https://localhost:8080/",
          "height": 487
        },
        "id": "CpjtlLfNkRv8",
        "outputId": "f401ce10-4fbd-4970-86c1-918505fdbb7e"
      },
      "execution_count": null,
      "outputs": [
        {
          "output_type": "execute_result",
          "data": {
            "text/plain": [
              "        0     1     2     3     4     5     6     7     8     9    ...   350  \\\n",
              "0       995   995   995   995   995   995   995   995  1000   997  ...   959   \n",
              "1       995   995   995   995   995   995   995   995  1000   997  ...   959   \n",
              "2       957   956   961   964   964   966   965   966   967   969  ...   955   \n",
              "3       950   951   952   951   956   959   961   960   958   958  ...   950   \n",
              "4       946   949   952   956   957   958   957   957   959   960  ...   956   \n",
              "...     ...   ...   ...   ...   ...   ...   ...   ...   ...   ...  ...   ...   \n",
              "98396  1076  1077  1079  1081  1083  1080  1082  1083  1081  1077  ...   991   \n",
              "98397  1036  1040  1045  1048  1053  1060  1065  1070  1077  1081  ...   951   \n",
              "98398   990   994   998  1004  1007  1010  1011  1015  1013  1014  ...  1004   \n",
              "98399   989   992   992   995   997  1001  1007  1012  1016  1023  ...   991   \n",
              "98400  1001  1003  1007  1009  1014  1020  1023  1025  1028  1030  ...   937   \n",
              "\n",
              "        351   352   353   354   355   356   357  358  359  \n",
              "0       958   954   951   952   948   939   935  929  922  \n",
              "1       958   954   951   952   948   939   935  929  922  \n",
              "2       957   958   958   955   955   955   960  958  957  \n",
              "3       948   950   952   951   952   951   948  950  951  \n",
              "4       957   957   958   957   956   957   960  956  956  \n",
              "...     ...   ...   ...   ...   ...   ...   ...  ...  ...  \n",
              "98396   994   991   991   988   982   975   972  968  965  \n",
              "98397   946   941   935   932   925   923   916  915  909  \n",
              "98398  1006  1012  1015  1016  1012  1010  1003  998  991  \n",
              "98399   989   985   983   982   979   980   979  978  976  \n",
              "98400   933   932   929   927   928   924   923  916  914  \n",
              "\n",
              "[98401 rows x 360 columns]"
            ],
            "text/html": [
              "\n",
              "  <div id=\"df-5d14a80d-37dd-47bb-bb7a-71b560b16fb1\">\n",
              "    <div class=\"colab-df-container\">\n",
              "      <div>\n",
              "<style scoped>\n",
              "    .dataframe tbody tr th:only-of-type {\n",
              "        vertical-align: middle;\n",
              "    }\n",
              "\n",
              "    .dataframe tbody tr th {\n",
              "        vertical-align: top;\n",
              "    }\n",
              "\n",
              "    .dataframe thead th {\n",
              "        text-align: right;\n",
              "    }\n",
              "</style>\n",
              "<table border=\"1\" class=\"dataframe\">\n",
              "  <thead>\n",
              "    <tr style=\"text-align: right;\">\n",
              "      <th></th>\n",
              "      <th>0</th>\n",
              "      <th>1</th>\n",
              "      <th>2</th>\n",
              "      <th>3</th>\n",
              "      <th>4</th>\n",
              "      <th>5</th>\n",
              "      <th>6</th>\n",
              "      <th>7</th>\n",
              "      <th>8</th>\n",
              "      <th>9</th>\n",
              "      <th>...</th>\n",
              "      <th>350</th>\n",
              "      <th>351</th>\n",
              "      <th>352</th>\n",
              "      <th>353</th>\n",
              "      <th>354</th>\n",
              "      <th>355</th>\n",
              "      <th>356</th>\n",
              "      <th>357</th>\n",
              "      <th>358</th>\n",
              "      <th>359</th>\n",
              "    </tr>\n",
              "  </thead>\n",
              "  <tbody>\n",
              "    <tr>\n",
              "      <th>0</th>\n",
              "      <td>995</td>\n",
              "      <td>995</td>\n",
              "      <td>995</td>\n",
              "      <td>995</td>\n",
              "      <td>995</td>\n",
              "      <td>995</td>\n",
              "      <td>995</td>\n",
              "      <td>995</td>\n",
              "      <td>1000</td>\n",
              "      <td>997</td>\n",
              "      <td>...</td>\n",
              "      <td>959</td>\n",
              "      <td>958</td>\n",
              "      <td>954</td>\n",
              "      <td>951</td>\n",
              "      <td>952</td>\n",
              "      <td>948</td>\n",
              "      <td>939</td>\n",
              "      <td>935</td>\n",
              "      <td>929</td>\n",
              "      <td>922</td>\n",
              "    </tr>\n",
              "    <tr>\n",
              "      <th>1</th>\n",
              "      <td>995</td>\n",
              "      <td>995</td>\n",
              "      <td>995</td>\n",
              "      <td>995</td>\n",
              "      <td>995</td>\n",
              "      <td>995</td>\n",
              "      <td>995</td>\n",
              "      <td>995</td>\n",
              "      <td>1000</td>\n",
              "      <td>997</td>\n",
              "      <td>...</td>\n",
              "      <td>959</td>\n",
              "      <td>958</td>\n",
              "      <td>954</td>\n",
              "      <td>951</td>\n",
              "      <td>952</td>\n",
              "      <td>948</td>\n",
              "      <td>939</td>\n",
              "      <td>935</td>\n",
              "      <td>929</td>\n",
              "      <td>922</td>\n",
              "    </tr>\n",
              "    <tr>\n",
              "      <th>2</th>\n",
              "      <td>957</td>\n",
              "      <td>956</td>\n",
              "      <td>961</td>\n",
              "      <td>964</td>\n",
              "      <td>964</td>\n",
              "      <td>966</td>\n",
              "      <td>965</td>\n",
              "      <td>966</td>\n",
              "      <td>967</td>\n",
              "      <td>969</td>\n",
              "      <td>...</td>\n",
              "      <td>955</td>\n",
              "      <td>957</td>\n",
              "      <td>958</td>\n",
              "      <td>958</td>\n",
              "      <td>955</td>\n",
              "      <td>955</td>\n",
              "      <td>955</td>\n",
              "      <td>960</td>\n",
              "      <td>958</td>\n",
              "      <td>957</td>\n",
              "    </tr>\n",
              "    <tr>\n",
              "      <th>3</th>\n",
              "      <td>950</td>\n",
              "      <td>951</td>\n",
              "      <td>952</td>\n",
              "      <td>951</td>\n",
              "      <td>956</td>\n",
              "      <td>959</td>\n",
              "      <td>961</td>\n",
              "      <td>960</td>\n",
              "      <td>958</td>\n",
              "      <td>958</td>\n",
              "      <td>...</td>\n",
              "      <td>950</td>\n",
              "      <td>948</td>\n",
              "      <td>950</td>\n",
              "      <td>952</td>\n",
              "      <td>951</td>\n",
              "      <td>952</td>\n",
              "      <td>951</td>\n",
              "      <td>948</td>\n",
              "      <td>950</td>\n",
              "      <td>951</td>\n",
              "    </tr>\n",
              "    <tr>\n",
              "      <th>4</th>\n",
              "      <td>946</td>\n",
              "      <td>949</td>\n",
              "      <td>952</td>\n",
              "      <td>956</td>\n",
              "      <td>957</td>\n",
              "      <td>958</td>\n",
              "      <td>957</td>\n",
              "      <td>957</td>\n",
              "      <td>959</td>\n",
              "      <td>960</td>\n",
              "      <td>...</td>\n",
              "      <td>956</td>\n",
              "      <td>957</td>\n",
              "      <td>957</td>\n",
              "      <td>958</td>\n",
              "      <td>957</td>\n",
              "      <td>956</td>\n",
              "      <td>957</td>\n",
              "      <td>960</td>\n",
              "      <td>956</td>\n",
              "      <td>956</td>\n",
              "    </tr>\n",
              "    <tr>\n",
              "      <th>...</th>\n",
              "      <td>...</td>\n",
              "      <td>...</td>\n",
              "      <td>...</td>\n",
              "      <td>...</td>\n",
              "      <td>...</td>\n",
              "      <td>...</td>\n",
              "      <td>...</td>\n",
              "      <td>...</td>\n",
              "      <td>...</td>\n",
              "      <td>...</td>\n",
              "      <td>...</td>\n",
              "      <td>...</td>\n",
              "      <td>...</td>\n",
              "      <td>...</td>\n",
              "      <td>...</td>\n",
              "      <td>...</td>\n",
              "      <td>...</td>\n",
              "      <td>...</td>\n",
              "      <td>...</td>\n",
              "      <td>...</td>\n",
              "      <td>...</td>\n",
              "    </tr>\n",
              "    <tr>\n",
              "      <th>98396</th>\n",
              "      <td>1076</td>\n",
              "      <td>1077</td>\n",
              "      <td>1079</td>\n",
              "      <td>1081</td>\n",
              "      <td>1083</td>\n",
              "      <td>1080</td>\n",
              "      <td>1082</td>\n",
              "      <td>1083</td>\n",
              "      <td>1081</td>\n",
              "      <td>1077</td>\n",
              "      <td>...</td>\n",
              "      <td>991</td>\n",
              "      <td>994</td>\n",
              "      <td>991</td>\n",
              "      <td>991</td>\n",
              "      <td>988</td>\n",
              "      <td>982</td>\n",
              "      <td>975</td>\n",
              "      <td>972</td>\n",
              "      <td>968</td>\n",
              "      <td>965</td>\n",
              "    </tr>\n",
              "    <tr>\n",
              "      <th>98397</th>\n",
              "      <td>1036</td>\n",
              "      <td>1040</td>\n",
              "      <td>1045</td>\n",
              "      <td>1048</td>\n",
              "      <td>1053</td>\n",
              "      <td>1060</td>\n",
              "      <td>1065</td>\n",
              "      <td>1070</td>\n",
              "      <td>1077</td>\n",
              "      <td>1081</td>\n",
              "      <td>...</td>\n",
              "      <td>951</td>\n",
              "      <td>946</td>\n",
              "      <td>941</td>\n",
              "      <td>935</td>\n",
              "      <td>932</td>\n",
              "      <td>925</td>\n",
              "      <td>923</td>\n",
              "      <td>916</td>\n",
              "      <td>915</td>\n",
              "      <td>909</td>\n",
              "    </tr>\n",
              "    <tr>\n",
              "      <th>98398</th>\n",
              "      <td>990</td>\n",
              "      <td>994</td>\n",
              "      <td>998</td>\n",
              "      <td>1004</td>\n",
              "      <td>1007</td>\n",
              "      <td>1010</td>\n",
              "      <td>1011</td>\n",
              "      <td>1015</td>\n",
              "      <td>1013</td>\n",
              "      <td>1014</td>\n",
              "      <td>...</td>\n",
              "      <td>1004</td>\n",
              "      <td>1006</td>\n",
              "      <td>1012</td>\n",
              "      <td>1015</td>\n",
              "      <td>1016</td>\n",
              "      <td>1012</td>\n",
              "      <td>1010</td>\n",
              "      <td>1003</td>\n",
              "      <td>998</td>\n",
              "      <td>991</td>\n",
              "    </tr>\n",
              "    <tr>\n",
              "      <th>98399</th>\n",
              "      <td>989</td>\n",
              "      <td>992</td>\n",
              "      <td>992</td>\n",
              "      <td>995</td>\n",
              "      <td>997</td>\n",
              "      <td>1001</td>\n",
              "      <td>1007</td>\n",
              "      <td>1012</td>\n",
              "      <td>1016</td>\n",
              "      <td>1023</td>\n",
              "      <td>...</td>\n",
              "      <td>991</td>\n",
              "      <td>989</td>\n",
              "      <td>985</td>\n",
              "      <td>983</td>\n",
              "      <td>982</td>\n",
              "      <td>979</td>\n",
              "      <td>980</td>\n",
              "      <td>979</td>\n",
              "      <td>978</td>\n",
              "      <td>976</td>\n",
              "    </tr>\n",
              "    <tr>\n",
              "      <th>98400</th>\n",
              "      <td>1001</td>\n",
              "      <td>1003</td>\n",
              "      <td>1007</td>\n",
              "      <td>1009</td>\n",
              "      <td>1014</td>\n",
              "      <td>1020</td>\n",
              "      <td>1023</td>\n",
              "      <td>1025</td>\n",
              "      <td>1028</td>\n",
              "      <td>1030</td>\n",
              "      <td>...</td>\n",
              "      <td>937</td>\n",
              "      <td>933</td>\n",
              "      <td>932</td>\n",
              "      <td>929</td>\n",
              "      <td>927</td>\n",
              "      <td>928</td>\n",
              "      <td>924</td>\n",
              "      <td>923</td>\n",
              "      <td>916</td>\n",
              "      <td>914</td>\n",
              "    </tr>\n",
              "  </tbody>\n",
              "</table>\n",
              "<p>98401 rows × 360 columns</p>\n",
              "</div>\n",
              "      <button class=\"colab-df-convert\" onclick=\"convertToInteractive('df-5d14a80d-37dd-47bb-bb7a-71b560b16fb1')\"\n",
              "              title=\"Convert this dataframe to an interactive table.\"\n",
              "              style=\"display:none;\">\n",
              "        \n",
              "  <svg xmlns=\"http://www.w3.org/2000/svg\" height=\"24px\"viewBox=\"0 0 24 24\"\n",
              "       width=\"24px\">\n",
              "    <path d=\"M0 0h24v24H0V0z\" fill=\"none\"/>\n",
              "    <path d=\"M18.56 5.44l.94 2.06.94-2.06 2.06-.94-2.06-.94-.94-2.06-.94 2.06-2.06.94zm-11 1L8.5 8.5l.94-2.06 2.06-.94-2.06-.94L8.5 2.5l-.94 2.06-2.06.94zm10 10l.94 2.06.94-2.06 2.06-.94-2.06-.94-.94-2.06-.94 2.06-2.06.94z\"/><path d=\"M17.41 7.96l-1.37-1.37c-.4-.4-.92-.59-1.43-.59-.52 0-1.04.2-1.43.59L10.3 9.45l-7.72 7.72c-.78.78-.78 2.05 0 2.83L4 21.41c.39.39.9.59 1.41.59.51 0 1.02-.2 1.41-.59l7.78-7.78 2.81-2.81c.8-.78.8-2.07 0-2.86zM5.41 20L4 18.59l7.72-7.72 1.47 1.35L5.41 20z\"/>\n",
              "  </svg>\n",
              "      </button>\n",
              "      \n",
              "  <style>\n",
              "    .colab-df-container {\n",
              "      display:flex;\n",
              "      flex-wrap:wrap;\n",
              "      gap: 12px;\n",
              "    }\n",
              "\n",
              "    .colab-df-convert {\n",
              "      background-color: #E8F0FE;\n",
              "      border: none;\n",
              "      border-radius: 50%;\n",
              "      cursor: pointer;\n",
              "      display: none;\n",
              "      fill: #1967D2;\n",
              "      height: 32px;\n",
              "      padding: 0 0 0 0;\n",
              "      width: 32px;\n",
              "    }\n",
              "\n",
              "    .colab-df-convert:hover {\n",
              "      background-color: #E2EBFA;\n",
              "      box-shadow: 0px 1px 2px rgba(60, 64, 67, 0.3), 0px 1px 3px 1px rgba(60, 64, 67, 0.15);\n",
              "      fill: #174EA6;\n",
              "    }\n",
              "\n",
              "    [theme=dark] .colab-df-convert {\n",
              "      background-color: #3B4455;\n",
              "      fill: #D2E3FC;\n",
              "    }\n",
              "\n",
              "    [theme=dark] .colab-df-convert:hover {\n",
              "      background-color: #434B5C;\n",
              "      box-shadow: 0px 1px 3px 1px rgba(0, 0, 0, 0.15);\n",
              "      filter: drop-shadow(0px 1px 2px rgba(0, 0, 0, 0.3));\n",
              "      fill: #FFFFFF;\n",
              "    }\n",
              "  </style>\n",
              "\n",
              "      <script>\n",
              "        const buttonEl =\n",
              "          document.querySelector('#df-5d14a80d-37dd-47bb-bb7a-71b560b16fb1 button.colab-df-convert');\n",
              "        buttonEl.style.display =\n",
              "          google.colab.kernel.accessAllowed ? 'block' : 'none';\n",
              "\n",
              "        async function convertToInteractive(key) {\n",
              "          const element = document.querySelector('#df-5d14a80d-37dd-47bb-bb7a-71b560b16fb1');\n",
              "          const dataTable =\n",
              "            await google.colab.kernel.invokeFunction('convertToInteractive',\n",
              "                                                     [key], {});\n",
              "          if (!dataTable) return;\n",
              "\n",
              "          const docLinkHtml = 'Like what you see? Visit the ' +\n",
              "            '<a target=\"_blank\" href=https://colab.research.google.com/notebooks/data_table.ipynb>data table notebook</a>'\n",
              "            + ' to learn more about interactive tables.';\n",
              "          element.innerHTML = '';\n",
              "          dataTable['output_type'] = 'display_data';\n",
              "          await google.colab.output.renderOutput(dataTable, element);\n",
              "          const docLink = document.createElement('div');\n",
              "          docLink.innerHTML = docLinkHtml;\n",
              "          element.appendChild(docLink);\n",
              "        }\n",
              "      </script>\n",
              "    </div>\n",
              "  </div>\n",
              "  "
            ]
          },
          "metadata": {},
          "execution_count": 62
        }
      ]
    },
    {
      "cell_type": "code",
      "source": [
        "y"
      ],
      "metadata": {
        "colab": {
          "base_uri": "https://localhost:8080/"
        },
        "id": "4ZqFbdB4lkRe",
        "outputId": "cc380538-5e4a-45ac-cb66-36682ece4f5f"
      },
      "execution_count": null,
      "outputs": [
        {
          "output_type": "execute_result",
          "data": {
            "text/plain": [
              "0        U\n",
              "1        N\n",
              "2        N\n",
              "3        N\n",
              "4        N\n",
              "        ..\n",
              "98396    N\n",
              "98397    N\n",
              "98398    N\n",
              "98399    N\n",
              "98400    N\n",
              "Name: 360, Length: 98401, dtype: object"
            ]
          },
          "metadata": {},
          "execution_count": 63
        }
      ]
    },
    {
      "cell_type": "code",
      "source": [
        "Xy_df[360].hist()"
      ],
      "metadata": {
        "colab": {
          "base_uri": "https://localhost:8080/",
          "height": 283
        },
        "id": "h5yMG-WPiyUD",
        "outputId": "3fce76f5-37bb-4f33-9b8c-415df7ba680e"
      },
      "execution_count": null,
      "outputs": [
        {
          "output_type": "execute_result",
          "data": {
            "text/plain": [
              "<matplotlib.axes._subplots.AxesSubplot at 0x7f7ee6153b10>"
            ]
          },
          "metadata": {},
          "execution_count": 34
        },
        {
          "output_type": "display_data",
          "data": {
            "text/plain": [
              "<Figure size 432x288 with 1 Axes>"
            ],
            "image/png": "[encoded data removed]"
          },
          "metadata": {
            "needs_background": "light"
          }
        }
      ]
    },
    {
      "cell_type": "code",
      "source": [
        "with open(\"/content/train_part1.pkl\", \"rb\") as fp:   # Unpickling\n",
        "  train_data_list_1 = pickle.load(fp)"
      ],
      "metadata": {
        "id": "eVaCEWLFqQgI"
      },
      "execution_count": null,
      "outputs": []
    },
    {
      "cell_type": "code",
      "source": [
        "!ls -ltr"
      ],
      "metadata": {
        "id": "U4fSj08HyL4V",
        "outputId": "725d8127-e523-4e86-82d0-7e0cfcb91eda",
        "colab": {
          "base_uri": "https://localhost:8080/"
        }
      },
      "execution_count": null,
      "outputs": [
        {
          "output_type": "stream",
          "name": "stdout",
          "text": [
            "total 383104\n",
            "drwxr-xr-x 1 root root      4096 Apr 29 03:19 sample_data\n",
            "drwx------ 6 root root      4096 May  2 06:26 drive\n",
            "-rw-r--r-- 1 root root 108291038 May  2 06:45 new_train.pkl\n",
            "-rw-r--r-- 1 root root 283993924 May  2 06:52 new_train_pandasDF.pkl\n"
          ]
        }
      ]
    },
    {
      "cell_type": "code",
      "source": [
        "import matplotlib.pyplot as plt"
      ],
      "metadata": {
        "id": "qP0yY-ilXclX"
      },
      "execution_count": null,
      "outputs": []
    },
    {
      "cell_type": "code",
      "source": [
        "allfeats[0][361]"
      ],
      "metadata": {
        "colab": {
          "base_uri": "https://localhost:8080/",
          "height": 35
        },
        "id": "Vrhb0yYMf5so",
        "outputId": "0a24b591-b6bc-4ef7-f0a8-8dfd111b695d"
      },
      "execution_count": null,
      "outputs": [
        {
          "output_type": "execute_result",
          "data": {
            "text/plain": [
              "'/content/drive/MyDrive/Spring_22/AInHC/mini_project/mitbih_database/100.csv'"
            ],
            "application/vnd.google.colaboratory.intrinsic+json": {
              "type": "string"
            }
          },
          "metadata": {},
          "execution_count": 37
        }
      ]
    },
    {
      "cell_type": "code",
      "source": [
        "allfeats[0][361]"
      ],
      "metadata": {
        "colab": {
          "base_uri": "https://localhost:8080/",
          "height": 35
        },
        "id": "GVFfRCkfOQqo",
        "outputId": "33353b19-d8e7-4cdd-f117-efd1530b88aa"
      },
      "execution_count": null,
      "outputs": [
        {
          "output_type": "execute_result",
          "data": {
            "text/plain": [
              "'/content/drive/MyDrive/Spring_22/AInHC/mini_project/mitbih_database/100.csv'"
            ],
            "application/vnd.google.colaboratory.intrinsic+json": {
              "type": "string"
            }
          },
          "metadata": {},
          "execution_count": 18
        }
      ]
    },
    {
      "cell_type": "code",
      "source": [
        "print(\"Type:\" , allfeats[1][360])\n",
        "plt.plot(allfeats[1][:360])\n",
        "plt.figure()"
      ],
      "metadata": {
        "colab": {
          "base_uri": "https://localhost:8080/",
          "height": 318
        },
        "id": "v3kqkkvIV4Aj",
        "outputId": "9c1e908f-6f5f-43bb-8261-a9670473e18e"
      },
      "execution_count": null,
      "outputs": [
        {
          "output_type": "stream",
          "name": "stdout",
          "text": [
            "Type: N\n"
          ]
        },
        {
          "output_type": "execute_result",
          "data": {
            "text/plain": [
              "<Figure size 432x288 with 0 Axes>"
            ]
          },
          "metadata": {},
          "execution_count": 38
        },
        {
          "output_type": "display_data",
          "data": {
            "text/plain": [
              "<Figure size 432x288 with 1 Axes>"
            ],
            "image/png": "[encoded data removed]"
          },
          "metadata": {
            "needs_background": "light"
          }
        },
        {
          "output_type": "display_data",
          "data": {
            "text/plain": [
              "<Figure size 432x288 with 0 Axes>"
            ]
          },
          "metadata": {}
        }
      ]
    },
    {
      "cell_type": "code",
      "source": [
        "print(\"Type:\" , allfeats[40][360])\n",
        "plt.plot(allfeats[40][:360])\n",
        "plt.figure()"
      ],
      "metadata": {
        "colab": {
          "base_uri": "https://localhost:8080/",
          "height": 318
        },
        "id": "trXLyYsHbRJG",
        "outputId": "5d0bbd40-3cc5-4c4b-d509-71b904e8cc42"
      },
      "execution_count": null,
      "outputs": [
        {
          "output_type": "stream",
          "name": "stdout",
          "text": [
            "Type: N\n"
          ]
        },
        {
          "output_type": "execute_result",
          "data": {
            "text/plain": [
              "<Figure size 432x288 with 0 Axes>"
            ]
          },
          "metadata": {},
          "execution_count": 39
        },
        {
          "output_type": "display_data",
          "data": {
            "text/plain": [
              "<Figure size 432x288 with 1 Axes>"
            ],
            "image/png": "[encoded data removed]"
          },
          "metadata": {
            "needs_background": "light"
          }
        },
        {
          "output_type": "display_data",
          "data": {
            "text/plain": [
              "<Figure size 432x288 with 0 Axes>"
            ]
          },
          "metadata": {}
        }
      ]
    },
    {
      "cell_type": "code",
      "source": [
        "print(\"Type:\" , allfeats[40000][360])\n",
        "plt.plot(allfeats[40000][:360])\n",
        "plt.figure()"
      ],
      "metadata": {
        "colab": {
          "base_uri": "https://localhost:8080/",
          "height": 318
        },
        "id": "7mQplYwFbZCT",
        "outputId": "29146166-f56d-4f69-d1d1-33534f5ae9cc"
      },
      "execution_count": null,
      "outputs": [
        {
          "output_type": "stream",
          "name": "stdout",
          "text": [
            "Type: N\n"
          ]
        },
        {
          "output_type": "execute_result",
          "data": {
            "text/plain": [
              "<Figure size 432x288 with 0 Axes>"
            ]
          },
          "metadata": {},
          "execution_count": 41
        },
        {
          "output_type": "display_data",
          "data": {
            "text/plain": [
              "<Figure size 432x288 with 1 Axes>"
            ],
            "image/png": "[encoded data removed]"
          },
          "metadata": {
            "needs_background": "light"
          }
        },
        {
          "output_type": "display_data",
          "data": {
            "text/plain": [
              "<Figure size 432x288 with 0 Axes>"
            ]
          },
          "metadata": {}
        }
      ]
    },
    {
      "cell_type": "code",
      "source": [
        "print(\"Type:\" , allfeats[67365][360])\n",
        "plt.plot(allfeats[67365][:360])\n",
        "plt.figure()"
      ],
      "metadata": {
        "colab": {
          "base_uri": "https://localhost:8080/",
          "height": 319
        },
        "id": "pI6_LYkbb0yU",
        "outputId": "e36201c0-9186-4abd-a0df-1ca9073a42de"
      },
      "execution_count": null,
      "outputs": [
        {
          "output_type": "stream",
          "name": "stdout",
          "text": [
            "Type: N\n"
          ]
        },
        {
          "output_type": "execute_result",
          "data": {
            "text/plain": [
              "<Figure size 432x288 with 0 Axes>"
            ]
          },
          "metadata": {},
          "execution_count": 43
        },
        {
          "output_type": "display_data",
          "data": {
            "text/plain": [
              "<Figure size 432x288 with 1 Axes>"
            ],
            "image/png": "[encoded data removed]"
          },
          "metadata": {
            "needs_background": "light"
          }
        },
        {
          "output_type": "display_data",
          "data": {
            "text/plain": [
              "<Figure size 432x288 with 0 Axes>"
            ]
          },
          "metadata": {}
        }
      ]
    },
    {
      "cell_type": "code",
      "source": [
        "print(\"Type:\" , allfeats[0][360])\n",
        "plt.plot(allfeats[0][:360])\n",
        "plt.figure()"
      ],
      "metadata": {
        "colab": {
          "base_uri": "https://localhost:8080/",
          "height": 318
        },
        "id": "NIvxgBpZbI4x",
        "outputId": "14db91c0-414d-400e-9801-9ae23f3c6b18"
      },
      "execution_count": null,
      "outputs": [
        {
          "output_type": "stream",
          "name": "stdout",
          "text": [
            "Type: U\n"
          ]
        },
        {
          "output_type": "execute_result",
          "data": {
            "text/plain": [
              "<Figure size 432x288 with 0 Axes>"
            ]
          },
          "metadata": {},
          "execution_count": 42
        },
        {
          "output_type": "display_data",
          "data": {
            "text/plain": [
              "<Figure size 432x288 with 1 Axes>"
            ],
            "image/png": "[encoded data removed]"
          },
          "metadata": {
            "needs_background": "light"
          }
        },
        {
          "output_type": "display_data",
          "data": {
            "text/plain": [
              "<Figure size 432x288 with 0 Axes>"
            ]
          },
          "metadata": {}
        }
      ]
    },
    {
      "cell_type": "code",
      "source": [
        "print(\"Type:\" , allfeats[12365][360])\n",
        "plt.plot(allfeats[12365][:360])\n",
        "plt.figure()"
      ],
      "metadata": {
        "colab": {
          "base_uri": "https://localhost:8080/",
          "height": 318
        },
        "id": "S9-5m7CTbpQa",
        "outputId": "aba28b7c-db10-4811-f38e-2df2ad80bd36"
      },
      "execution_count": null,
      "outputs": [
        {
          "output_type": "stream",
          "name": "stdout",
          "text": [
            "Type: U\n"
          ]
        },
        {
          "output_type": "execute_result",
          "data": {
            "text/plain": [
              "<Figure size 432x288 with 0 Axes>"
            ]
          },
          "metadata": {},
          "execution_count": 44
        },
        {
          "output_type": "display_data",
          "data": {
            "text/plain": [
              "<Figure size 432x288 with 1 Axes>"
            ],
            "image/png": "[encoded data removed]"
          },
          "metadata": {
            "needs_background": "light"
          }
        },
        {
          "output_type": "display_data",
          "data": {
            "text/plain": [
              "<Figure size 432x288 with 0 Axes>"
            ]
          },
          "metadata": {}
        }
      ]
    },
    {
      "cell_type": "code",
      "source": [
        ""
      ],
      "metadata": {
        "id": "Uf_p5S-AesJp"
      },
      "execution_count": null,
      "outputs": []
    },
    {
      "cell_type": "markdown",
      "metadata": {
        "id": "jU6eWgdCANon"
      },
      "source": [
        "# Exercise 1"
      ]
    },
    {
      "cell_type": "code",
      "execution_count": null,
      "metadata": {
        "id": "-rYhg5Rk_a7i"
      },
      "outputs": [],
      "source": [
        "def preprocessor(csv_files, txt_files):\n",
        "  # Input: List of all csv and txt files.\n",
        "  # Output: Single dataframe containing entire data.\n",
        "  # It is best to keep functions short(20 lines max), so feel free to use helper functions here."
      ]
    },
    {
      "cell_type": "code",
      "execution_count": null,
      "metadata": {
        "id": "f_6nJRkYAMqI"
      },
      "outputs": [],
      "source": [
        "def plotting():\n",
        "  # Plot a few heartbeats here with proper labelling."
      ]
    },
    {
      "cell_type": "code",
      "execution_count": null,
      "metadata": {
        "id": "yRxlxpJZAMtN"
      },
      "outputs": [],
      "source": [
        "# Print length of dataframe you got after preprocessing."
      ]
    },
    {
      "cell_type": "markdown",
      "metadata": {
        "id": "phWctgjPBtfl"
      },
      "source": [
        "# Exercise 2"
      ]
    },
    {
      "cell_type": "code",
      "execution_count": null,
      "metadata": {
        "id": "rguiFkQWBuq8"
      },
      "outputs": [],
      "source": [
        "def cleaning():\n",
        "  # Take all the features as input, and do any data cleaning necessary.\n",
        "  # YOUR CODE HERE"
      ]
    },
    {
      "cell_type": "code",
      "execution_count": null,
      "metadata": {
        "id": "rAAKogAGB9Ec"
      },
      "outputs": [],
      "source": [
        "def normalizer():\n",
        "  # Taken input the output of cleaning function, and perform data normalization independently for all the features.\n",
        "  # YOUR CODE HERE"
      ]
    },
    {
      "cell_type": "code",
      "execution_count": null,
      "metadata": {
        "id": "h4phpKPOCgVn"
      },
      "outputs": [],
      "source": [
        "from sklearn.preprocessing import StandardScaler\n",
        "\n",
        "# df_new_train_nonan = .values.reshape(-1,1)\n",
        "\n",
        "# standardising X datapoints\n",
        "scaler_train = StandardScaler()\n",
        "scaler_train.fit(X) # computes mean and std for every column, dont do for test\n",
        "df_new_train_transformed = scaler_train.transform(X)"
      ]
    },
    {
      "cell_type": "code",
      "execution_count": null,
      "metadata": {
        "id": "g40rCNVAFnfT",
        "colab": {
          "base_uri": "https://localhost:8080/"
        },
        "outputId": "8328c88c-db87-4d0a-fff0-dfa715c9c3e8"
      },
      "outputs": [
        {
          "output_type": "execute_result",
          "data": {
            "text/plain": [
              "array([[ 0.44070671,  0.44461155,  0.44887847, ..., -0.19682894,\n",
              "        -0.27059091, -0.35514358],\n",
              "       [ 0.44070671,  0.44461155,  0.44887847, ..., -0.19682894,\n",
              "        -0.27059091, -0.35514358],\n",
              "       [ 0.04891528,  0.04066201,  0.09505653, ...,  0.10234578,\n",
              "         0.07416287,  0.0579343 ],\n",
              "       ...,\n",
              "       [ 0.3891552 ,  0.43425387,  0.48009806, ...,  0.61692631,\n",
              "         0.54968533,  0.45920996],\n",
              "       [ 0.3788449 ,  0.41353851,  0.41765889, ...,  0.32971857,\n",
              "         0.3119241 ,  0.28217658],\n",
              "       [ 0.50256851,  0.527473  ,  0.57375681, ..., -0.34043281,\n",
              "        -0.42513571, -0.44956138]])"
            ]
          },
          "metadata": {},
          "execution_count": 66
        }
      ],
      "source": [
        "df_new_train_transformed"
      ]
    },
    {
      "cell_type": "code",
      "source": [
        "from sklearn import preprocessing\n",
        "le = preprocessing.LabelEncoder()\n",
        "y_numeric = le.fit_transform(y)"
      ],
      "metadata": {
        "id": "xJ3Ab89KmSEX"
      },
      "execution_count": null,
      "outputs": []
    },
    {
      "cell_type": "code",
      "source": [
        "y_numeric\n"
      ],
      "metadata": {
        "colab": {
          "base_uri": "https://localhost:8080/"
        },
        "id": "u5oX-3ghmnGU",
        "outputId": "d9ea3afa-39c3-4a65-e257-28829f236454"
      },
      "execution_count": null,
      "outputs": [
        {
          "output_type": "execute_result",
          "data": {
            "text/plain": [
              "array([4, 2, 2, ..., 2, 2, 2])"
            ]
          },
          "metadata": {},
          "execution_count": 68
        }
      ]
    },
    {
      "cell_type": "code",
      "source": [
        "np.array(y == (le.inverse_transform(y_numeric))).all()"
      ],
      "metadata": {
        "colab": {
          "base_uri": "https://localhost:8080/"
        },
        "id": "l_NvGJu5mv_H",
        "outputId": "1998ddbd-3e36-4122-dde4-90639e93154f"
      },
      "execution_count": null,
      "outputs": [
        {
          "output_type": "execute_result",
          "data": {
            "text/plain": [
              "True"
            ]
          },
          "metadata": {},
          "execution_count": 74
        }
      ]
    },
    {
      "cell_type": "markdown",
      "metadata": {
        "id": "v8egAhXKCAqI"
      },
      "source": [
        "# Exercise 3"
      ]
    },
    {
      "cell_type": "code",
      "execution_count": null,
      "metadata": {
        "id": "C1AEdxZCB9HT"
      },
      "outputs": [],
      "source": [
        "def class_imbalance_checker():\n",
        "  # Print number of rows with each heartbeat type, along with plots to represent it."
      ]
    },
    {
      "cell_type": "code",
      "execution_count": null,
      "metadata": {
        "id": "gxhMRgylCYDC"
      },
      "outputs": [],
      "source": [
        "def imbalance_remover_1():\n",
        "  # Implement a method to handle class imbalance."
      ]
    },
    {
      "cell_type": "code",
      "execution_count": null,
      "metadata": {
        "id": "qUSdsZUCCjOq"
      },
      "outputs": [],
      "source": [
        "def imbalance_remover_2():\n",
        "  # Implement a method to handle class imbalance."
      ]
    },
    {
      "cell_type": "markdown",
      "metadata": {
        "id": "kpKWJP-eCYLF"
      },
      "source": [
        "# Exercise 4"
      ]
    },
    {
      "cell_type": "code",
      "source": [
        ""
      ],
      "metadata": {
        "id": "iTKQowgenZQz"
      },
      "execution_count": null,
      "outputs": []
    },
    {
      "cell_type": "code",
      "execution_count": null,
      "metadata": {
        "id": "U0T-Khu_CZhr"
      },
      "outputs": [],
      "source": [
        "def noise_remover1():\n",
        "  # Take input the dataframe and remove noise from it.\n",
        "  # HINT- pywt library can be helpful."
      ]
    },
    {
      "cell_type": "code",
      "execution_count": null,
      "metadata": {
        "id": "J682WzvSIq5m"
      },
      "outputs": [],
      "source": [
        "def noise_remover2():\n",
        "  # Take input the dataframe and remove noise from it.\n"
      ]
    },
    {
      "cell_type": "code",
      "execution_count": null,
      "metadata": {
        "id": "v3uWkiQHJDKK"
      },
      "outputs": [],
      "source": [
        "def autoencoder_noise_remover2():\n",
        "  # Take input the dataframe and remove noise from it using an autoencoder architecture.\n"
      ]
    },
    {
      "cell_type": "markdown",
      "metadata": {
        "id": "oQsIlyNwJLXL"
      },
      "source": [
        "# Exercise 5"
      ]
    },
    {
      "cell_type": "code",
      "execution_count": null,
      "metadata": {
        "id": "hcSZO07jGS_B",
        "colab": {
          "base_uri": "https://localhost:8080/"
        },
        "outputId": "05f06fb1-b369-4074-abc6-b233fd7022e4"
      },
      "outputs": [
        {
          "output_type": "stream",
          "name": "stdout",
          "text": [
            "*****Splitting data into Features and Target*****\n",
            "Number of Features : (98401, 360)\n",
            "Target shape : (98401,)\n",
            "\n",
            "*****Splitting data into Train and Validation*****\n",
            "X_train : (68880, 360)\n",
            "X_val : (14760, 360)\n",
            "X_test : (14761, 360)\n",
            "y_train :  (68880,)\n",
            "y_val : (14760,)\n",
            "y_test : (14761,)\n"
          ]
        }
      ],
      "source": [
        "print(\"*****Splitting data into Features and Target*****\")\n",
        "print(\"Number of Features :\",df_new_train_transformed.shape)\n",
        "print(\"Target shape :\", y_numeric.shape)\n",
        "\n",
        "print(\"\\n*****Splitting data into Train and Validation*****\")\n",
        "# Splitting the dataset into train, val and test sets.\n",
        "# 2.0\n",
        "\n",
        "\n",
        "X_train, X_val, y_train, y_val = train_test_split(df_new_train_transformed, y_numeric, test_size = 0.3, random_state=42)\n",
        "X_val, X_test, y_val, y_test = train_test_split(X_val, y_val, test_size = 0.5, random_state=42)\n",
        "\n",
        "print(\"X_train :\", X_train.shape)\n",
        "print(\"X_val :\", X_val.shape)\n",
        "print(\"X_test :\", X_test.shape)\n",
        "\n",
        "print(\"y_train : \",y_train.shape)\n",
        "print(\"y_val :\", y_val.shape)\n",
        "print(\"y_test :\", y_test.shape)\n",
        "\n"
      ]
    },
    {
      "cell_type": "code",
      "execution_count": null,
      "metadata": {
        "id": "X_JQYydPJRuM"
      },
      "outputs": [],
      "source": [
        "# Code for different models used.\n",
        "\n",
        "def Model1():\n",
        "  # You can use the sci-kit learn solver but capture any other hyper-parameter settings\n",
        "  # or model settings in this method\n",
        "  "
      ]
    },
    {
      "cell_type": "code",
      "source": [
        "from sklearn.ensemble import RandomForestClassifier\n",
        "from sklearn.tree import DecisionTreeClassifier , plot_tree\n",
        "from sklearn.metrics import confusion_matrix"
      ],
      "metadata": {
        "id": "7uKs-h5PpLr8"
      },
      "execution_count": null,
      "outputs": []
    },
    {
      "cell_type": "code",
      "source": [
        "clf = RandomForestClassifier(max_depth=2, random_state=0)\n",
        "clf_randfor = clf.fit(X_train,y_train)\n",
        "\n",
        "y_pred_test = clf_randfor.predict(X_test)\n"
      ],
      "metadata": {
        "id": "wcaJCpMrpFD6"
      },
      "execution_count": null,
      "outputs": []
    },
    {
      "cell_type": "code",
      "source": [
        "from sklearn.metrics import accuracy_score\n",
        "rf_score = accuracy_score(y_test, y_pred_test)\n",
        "print(rf_score)\n"
      ],
      "metadata": {
        "colab": {
          "base_uri": "https://localhost:8080/"
        },
        "id": "c2mUKphoq1xj",
        "outputId": "618f253f-334d-478f-9517-216b824b4f4a"
      },
      "execution_count": null,
      "outputs": [
        {
          "output_type": "stream",
          "name": "stdout",
          "text": [
            "0.7838899803536346\n"
          ]
        }
      ]
    },
    {
      "cell_type": "code",
      "source": [
        "from sklearn.metrics import f1_score\n",
        "f1_score_rf = f1_score(y_test, y_pred_test, average= \"weighted\")\n",
        "f1_score_rf"
      ],
      "metadata": {
        "colab": {
          "base_uri": "https://localhost:8080/"
        },
        "id": "z0ldJ38AxIrN",
        "outputId": "912d86c8-6adf-45e8-fa94-942609454f9c"
      },
      "execution_count": null,
      "outputs": [
        {
          "output_type": "execute_result",
          "data": {
            "text/plain": [
              "0.7293336002740055"
            ]
          },
          "metadata": {},
          "execution_count": 99
        }
      ]
    },
    {
      "cell_type": "code",
      "source": [
        "confusion_matrix(y_test, y_pred_test)"
      ],
      "metadata": {
        "colab": {
          "base_uri": "https://localhost:8080/"
        },
        "id": "VWiJN-ac0Nro",
        "outputId": "c1b13849-0c81-4a73-9671-551ef373c98e"
      },
      "execution_count": null,
      "outputs": [
        {
          "output_type": "execute_result",
          "data": {
            "text/plain": [
              "array([[    0,     0,   160,    10,     0,     0],\n",
              "       [    0,   419,   759,     1,     0,     0],\n",
              "       [    0,     5, 10404,    25,     0,     0],\n",
              "       [    0,     0,   582,   276,     0,     0],\n",
              "       [    0,    30,   650,     3,   472,     0],\n",
              "       [    0,   317,   616,     7,    25,     0]])"
            ]
          },
          "metadata": {},
          "execution_count": 101
        }
      ]
    },
    {
      "cell_type": "code",
      "source": [
        "clf = DecisionTreeClassifier()\n",
        "clf_decision = clf.fit(X_train,y_train)"
      ],
      "metadata": {
        "id": "mwr1qcFwr6tn"
      },
      "execution_count": null,
      "outputs": []
    },
    {
      "cell_type": "code",
      "source": [
        "y_pred_test_decision = clf_decision.predict(X_test)"
      ],
      "metadata": {
        "id": "P37AzY8Hs45M"
      },
      "execution_count": null,
      "outputs": []
    },
    {
      "cell_type": "code",
      "source": [
        "dt_score = accuracy_score(y_test, y_pred_test_decision)\n",
        "print(dt_score)\n"
      ],
      "metadata": {
        "colab": {
          "base_uri": "https://localhost:8080/"
        },
        "id": "f8AVzRYstGa1",
        "outputId": "99425cac-54e2-4bf9-a3e2-4a9c3435e5a7"
      },
      "execution_count": null,
      "outputs": [
        {
          "output_type": "stream",
          "name": "stdout",
          "text": [
            "0.9498001490413929\n"
          ]
        }
      ]
    },
    {
      "cell_type": "code",
      "source": [
        "confusion_matrix(y_test, y_pred_test_decision)"
      ],
      "metadata": {
        "colab": {
          "base_uri": "https://localhost:8080/"
        },
        "id": "7X85T49L0j72",
        "outputId": "92c3102d-d9fd-4baf-ce5e-f509d6106632"
      },
      "execution_count": null,
      "outputs": [
        {
          "output_type": "execute_result",
          "data": {
            "text/plain": [
              "array([[   89,     0,    68,     3,     4,     6],\n",
              "       [    6,  1110,    29,     0,    14,    20],\n",
              "       [   78,    29, 10137,    33,   102,    55],\n",
              "       [    5,     0,    29,   812,     8,     4],\n",
              "       [    1,     9,    93,     4,  1014,    34],\n",
              "       [    5,    15,    58,     1,    28,   858]])"
            ]
          },
          "metadata": {},
          "execution_count": 102
        }
      ]
    },
    {
      "cell_type": "code",
      "source": [
        "from sklearn.metrics import f1_score\n",
        "f1_score_dectree = f1_score(y_test, y_pred_test_decision, average= \"weighted\")\n",
        "f1_score_dectree"
      ],
      "metadata": {
        "colab": {
          "base_uri": "https://localhost:8080/"
        },
        "id": "Mx8IQkmTv-KT",
        "outputId": "8eacef21-c064-4841-a52f-835ccb323a7f"
      },
      "execution_count": null,
      "outputs": [
        {
          "output_type": "execute_result",
          "data": {
            "text/plain": [
              "0.950092633093088"
            ]
          },
          "metadata": {},
          "execution_count": 98
        }
      ]
    },
    {
      "cell_type": "code",
      "source": [
        "plot_tree(clf_decision)"
      ],
      "metadata": {
        "colab": {
          "base_uri": "https://localhost:8080/",
          "height": 250
        },
        "id": "QyHaFY0tuR_y",
        "outputId": "eeb4fa13-798b-40c8-b5f9-46345988bb0f"
      },
      "execution_count": null,
      "outputs": [
        {
          "output_type": "display_data",
          "data": {
            "text/plain": [
              "<Figure size 432x288 with 1 Axes>"
            ],
            "image/png": "[encoded data removed]"
          },
          "metadata": {
            "needs_background": "light"
          }
        }
      ]
    },
    {
      "cell_type": "markdown",
      "source": [
        "feed forward network"
      ],
      "metadata": {
        "id": "O7ItWrM51ZvG"
      }
    },
    {
      "cell_type": "code",
      "source": [
        "from sklearn.neural_network import MLPClassifier\n",
        "#clf_mlp = MLPClassifier(solver = 'lbfgs', alpha= 1e-5, hidden_layer_sizes= )"
      ],
      "metadata": {
        "id": "rodFI5Vo1cvL"
      },
      "execution_count": null,
      "outputs": []
    },
    {
      "cell_type": "code",
      "source": [
        "clf_mlp = MLPClassifier(random_state=1, max_iter=300).fit(X_train, y_train)\n",
        "ypred_mlp = clf_mlp.predict_proba(X_test)\n",
        "y_pred_test_mlp = clf_mlp.predict(X_test)\n"
      ],
      "metadata": {
        "id": "c9XrlJNk2ECA"
      },
      "execution_count": null,
      "outputs": []
    },
    {
      "cell_type": "code",
      "source": [
        "mlp_score = accuracy_score(y_test, y_pred_test_mlp)\n",
        "print(mlp_score)\n"
      ],
      "metadata": {
        "colab": {
          "base_uri": "https://localhost:8080/"
        },
        "outputId": "bee878cc-25e3-4de7-fb4a-2f8f60878051",
        "id": "hrI5WsVC3bVY"
      },
      "execution_count": null,
      "outputs": [
        {
          "output_type": "stream",
          "name": "stdout",
          "text": [
            "0.9808956032789107\n"
          ]
        }
      ]
    },
    {
      "cell_type": "code",
      "source": [
        "f1_score_mlp = f1_score(y_test, y_pred_test_mlp, average= \"weighted\")\n",
        "f1_score_mlp"
      ],
      "metadata": {
        "colab": {
          "base_uri": "https://localhost:8080/"
        },
        "id": "VC2_1HqB4X2U",
        "outputId": "e11f4f16-3680-49a7-98df-e5d2d22683a5"
      },
      "execution_count": null,
      "outputs": [
        {
          "output_type": "execute_result",
          "data": {
            "text/plain": [
              "0.9807526405846189"
            ]
          },
          "metadata": {},
          "execution_count": 107
        }
      ]
    },
    {
      "cell_type": "code",
      "source": [
        "confusion_matrix(y_test, y_pred_test_mlp)"
      ],
      "metadata": {
        "colab": {
          "base_uri": "https://localhost:8080/"
        },
        "outputId": "b70928d7-d35b-4b4e-e24a-298ea68f9fe5",
        "id": "VG4-td_63bV4"
      },
      "execution_count": null,
      "outputs": [
        {
          "output_type": "execute_result",
          "data": {
            "text/plain": [
              "array([[  128,     0,    39,     0,     2,     1],\n",
              "       [    0,  1172,     2,     0,     2,     3],\n",
              "       [   18,     3, 10363,     1,    44,     5],\n",
              "       [    1,     0,     3,   847,     6,     1],\n",
              "       [    3,     3,    60,     0,  1070,    19],\n",
              "       [    4,     1,    23,     0,    38,   899]])"
            ]
          },
          "metadata": {},
          "execution_count": 106
        }
      ]
    },
    {
      "cell_type": "markdown",
      "metadata": {
        "id": "uVTS6siyJWfJ"
      },
      "source": [
        "# Exercise 6"
      ]
    },
    {
      "cell_type": "code",
      "execution_count": null,
      "metadata": {
        "id": "IFdYOEw_JXqG"
      },
      "outputs": [],
      "source": [
        "def Model2():\n",
        "  # Apply a feed-forward neural network along with hyper-parameter tuning for the same.\n"
      ]
    },
    {
      "cell_type": "code",
      "execution_count": null,
      "metadata": {
        "id": "4o-FWiYHJrBN"
      },
      "outputs": [],
      "source": [
        "def plotting_ffn():\n",
        "  # Plotting the curves of training, validation and test sets losses and\n",
        "  # accuracy scores with number of epochs on the x-axis."
      ]
    },
    {
      "cell_type": "code",
      "execution_count": null,
      "metadata": {
        "id": "2HcVOeGOKIgs"
      },
      "outputs": [],
      "source": [
        "# Create function which calculates F1score, precision, recall and accuracy score for true and predicted labels.\n",
        "def metrics(y_pred, y_true):\n",
        "  pass\n",
        "  # Takes input the predicted and true labels.\n",
        "  # Your code here for precision, recall, F1score, accuracy\n",
        "  # You can call this code to compute metrics for your models"
      ]
    },
    {
      "cell_type": "markdown",
      "metadata": {
        "id": "zcDjo4ARJ1F_"
      },
      "source": [
        "# Exercise 7"
      ]
    },
    {
      "cell_type": "code",
      "execution_count": null,
      "metadata": {
        "id": "xUbo19Z0J2t9"
      },
      "outputs": [],
      "source": [
        "# Add the implementation from a recent paper."
      ]
    },
    {
      "cell_type": "code",
      "execution_count": null,
      "metadata": {
        "id": "gHCrAjRDKAZ-"
      },
      "outputs": [],
      "source": [
        "def plotting_nn():\n",
        "  # Plotting the curves of training, validation and test sets losses and\n",
        "  # accuracy scores with number of epochs on the x-axis."
      ]
    },
    {
      "cell_type": "markdown",
      "metadata": {
        "id": "9Rsqm23_KTJL"
      },
      "source": [
        "# Exercise 9"
      ]
    },
    {
      "cell_type": "code",
      "execution_count": null,
      "metadata": {
        "id": "4FpSlnOVKKC3"
      },
      "outputs": [],
      "source": [
        "# Running with some other data.\n",
        "# Call previously defined functions for the new set of input feature values."
      ]
    },
    {
      "cell_type": "markdown",
      "metadata": {
        "id": "hSoJZo-1JYSD"
      },
      "source": [
        "# Exercise 10"
      ]
    },
    {
      "cell_type": "code",
      "execution_count": null,
      "metadata": {
        "id": "6m3HAEXcJaGA"
      },
      "outputs": [],
      "source": [
        "def plot_final():\n",
        "  # lot examples or time-series snippets of\n",
        "  # mis-classified arrhythmia (False positives) and also false negatives.\n"
      ]
    }
  ],
  "metadata": {
    "colab": {
      "collapsed_sections": [],
      "name": "arrhythmia_a3.ipynb",
      "provenance": [],
      "machine_shape": "hm"
    },
    "kernelspec": {
      "display_name": "Python 3",
      "name": "python3"
    },
    "language_info": {
      "name": "python"
    },
    "accelerator": "GPU"
  },
  "nbformat": 4,
  "nbformat_minor": 0
}